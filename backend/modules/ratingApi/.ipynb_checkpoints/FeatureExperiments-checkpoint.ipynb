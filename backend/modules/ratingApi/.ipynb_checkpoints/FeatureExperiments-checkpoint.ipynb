{
 "cells": [
  {
   "cell_type": "code",
   "execution_count": 1,
   "metadata": {},
   "outputs": [],
   "source": [
    "import pandas as pd\n",
    "import sklearn\n",
    "from sklearn.model_selection import train_test_split\n",
    "from sklearn.linear_model import LinearRegression\n",
    "from sklearn import metrics\n",
    "from numpy import nan\n",
    "from math import isnan\n",
    "import warnings\n",
    "import matplotlib.pyplot as plt\n",
    "warnings.simplefilter(action='ignore', category=FutureWarning)\n",
    "# warnings.simplefilter(action='ignore', category=pd.SettingWithCopyWarning)"
   ]
  },
  {
   "cell_type": "code",
   "execution_count": 44,
   "metadata": {},
   "outputs": [],
   "source": [
    "features = ['GROSS_BUILDING_FLOOR_AREA_ft_', 'PROPERTY_TYPE', 'OCCUPANCY']\n",
    "using_original = False"
   ]
  },
  {
   "cell_type": "code",
   "execution_count": 65,
   "metadata": {},
   "outputs": [
    {
     "name": "stdout",
     "output_type": "stream",
     "text": [
      "R2 score: 0.4352545365690935\n",
      "Explained variance score: 0.43536713278491035\n"
     ]
    },
    {
     "name": "stderr",
     "output_type": "stream",
     "text": [
      "/anaconda3/lib/python3.6/site-packages/ipykernel_launcher.py:103: SettingWithCopyWarning: \n",
      "A value is trying to be set on a copy of a slice from a DataFrame.\n",
      "Try using .loc[row_indexer,col_indexer] = value instead\n",
      "\n",
      "See the caveats in the documentation: http://pandas.pydata.org/pandas-docs/stable/indexing.html#indexing-view-versus-copy\n"
     ]
    }
   ],
   "source": [
    "data = pd.read_csv('myfilter.csv', header='infer')\n",
    "if using_original:\n",
    "    bad_cols = ['BUILDING ADDRESS', 'BUILDING ID', 'COMPLIANCE STATUS', 'ENERGY STAR SCORE', \n",
    "                'ENERGY STAR CERTIFICATION - ELIGIBILITY',\n",
    "                'ENERGY STAR CERTIFICATION - LAST APPROVAL DATE',\n",
    "                'ENERGY STAR CERTIFICATION - YEAR(S) CERTIFIED', 'ENTITY RESPONSIBLE FOR BENCHMARK', \n",
    "                'INDOOR WATER USE (kgal)', 'INDOOR WATER USE INTENSITY (gal/ft²)', 'OUTDOOR WATER USE (kgal)',\n",
    "                'PROGRAM YEAR', 'WEATHER NORMALIZED SITE ENERGY USE INTENSITY (EUI) (kBtu/ft²)',\n",
    "                'WEATHER NORMALIZED SOURCE ENERGY USE INTENSITY (EUI) (kBtu/ft²)', 'AIN',\n",
    "                'LADBS Building Category']\n",
    "    data = data.drop(bad_cols, axis=1)\n",
    "    data = data.dropna()\n",
    "    a = data.columns.tolist()\n",
    "    for col in a:\n",
    "        try:\n",
    "            data = data[data[col] != 'Not Available']\n",
    "        except:\n",
    "            pass\n",
    "\n",
    "X = data[features]\n",
    "y = data['CARBON_DIOXIDE_EMISSIONS_Metric_Ton_CO2e_']\n",
    "\n",
    "if 'PROPERTY_TYPE' in features:\n",
    "    property_types = X['PROPERTY_TYPE'].unique().tolist()\n",
    "    # residential = 0, commercial = 1, office/industrial = 2, public = 3, mixed = 4 miscellaneous = 5\n",
    "    property_map = {'Multifamily Housing': 0,\n",
    "             'Library': 3,\n",
    "             'Hotel': 1,\n",
    "             'Manufacturing/Industrial Plant': 2,\n",
    "             'Other': 5,\n",
    "             'Mixed Use Property': 4,\n",
    "             'Office': 2,\n",
    "             'Hospital (General Medical & Surgical)': 3,\n",
    "             'Medical Office': 3,\n",
    "             'Distribution Center': 2,\n",
    "             'Self-Storage Facility': 1,\n",
    "             'Strip Mall': 1,\n",
    "             'K-12 School': 3,\n",
    "             'Other - Recreation': 3,\n",
    "             'Non-Refrigerated Warehouse': 2,\n",
    "             'Residential Care Facility': 0,\n",
    "             'Other - Utility': 3,\n",
    "             'Parking': 5,\n",
    "             'Refrigerated Warehouse': 2,\n",
    "             'Lifestyle Center': 1,\n",
    "             'Food Service': 1,\n",
    "             'Fire Station': 3,\n",
    "             'Other - Lodging/Residential': 0,\n",
    "             'Retail Store': 1,\n",
    "             'Senior Care Community': 0,\n",
    "             'Supermarket/Grocery Store': 1,\n",
    "             'Enclosed Mall': 1,\n",
    "             'College/University': 3,\n",
    "             'Other - Public Services': 3,\n",
    "             'Museum': 1,\n",
    "             'Laboratory': 2,\n",
    "             'Worship Facility': 3,\n",
    "             'Other - Entertainment/Public Assembly': 3,\n",
    "             'Performing Arts': 3,\n",
    "             'Bank Branch': 2,\n",
    "             'Mailing Center/Post Office': 3,\n",
    "             'Vocational School': 3,\n",
    "             'Data Center': 2,\n",
    "             'Other - Mall': 1,\n",
    "             'Other - Services': 1,\n",
    "             'Energy/Power Station': 2,\n",
    "             'Automobile Dealership': 1,\n",
    "             'Police Station': 3,\n",
    "             'Financial Office': 2,\n",
    "             'Indoor Arena': 3,\n",
    "             'Repair Services (Vehicle, Shoe, Locksmith, etc.)': 1,\n",
    "             'Social/Meeting Hall': 3,\n",
    "             'Movie Theater': 1,\n",
    "             'Food Sales': 1,\n",
    "             'Restaurant': 1,\n",
    "             'Immeuble � logements multiples': 5,\n",
    "             'Transportation Terminal/Station': 3,\n",
    "             'Residence Hall/Dormitory': 0,\n",
    "             'Wholesale Club/Supercenter': 1,\n",
    "             'Pre-school/Daycare': 1,\n",
    "             'Fitness Center/Health Club/Gym': 1,\n",
    "             'Other - Specialty Hospital': 3,\n",
    "             'Ice/Curling Rink': 1,\n",
    "             'Ambulatory Surgical Center': 3,\n",
    "             'Other - Restaurant/Bar': 1,\n",
    "             'Bureau': 3,\n",
    "             'Outpatient Rehabilitation/Physical Therapy': 1,\n",
    "             'Bowling Alley': 1,\n",
    "             'Convention Center': 3,\n",
    "             'Other - Technology/Science': 3,\n",
    "             'Other - Education': 3,\n",
    "             'Urgent Care/Clinic/Other Outpatient': 3,\n",
    "             'Stationnement': 5,\n",
    "             'Personal Services (Health/Beauty, Dry Cleaning, etc.)': 1,\n",
    "             'Stadium (Open)': 3,\n",
    "             'Courthouse': 3,\n",
    "             'Roller Rink': 1,\n",
    "             'Adult Education': 3,\n",
    "             'Convenience Store without Gas Station': 1,\n",
    "             'Convenience Store with Gas Station': 1,\n",
    "             'Veterinary Office': 2}\n",
    "    property_map2 = {pType : index for index, pType in enumerate(property_types)}\n",
    "    X['PROPERTY_TYPE'] = X.apply(lambda row: property_map[row['PROPERTY_TYPE']], axis=1)"
   ]
  },
  {
   "cell_type": "code",
   "execution_count": 78,
   "metadata": {},
   "outputs": [],
   "source": [
    "while metrics.r2_score(y_test, predicted_results) < 0.64:\n",
    "    X_train, X_test, y_train, y_test = train_test_split(X, y)\n",
    "    model = LinearRegression()\n",
    "    model.fit(X_train, y_train)\n",
    "    predicted_results = model.predict(X_test)\n",
    "    #print(\"R2 score: \" + str(metrics.r2_score(y_test, predicted_results)))\n",
    "    #print(\"Explained variance score: \" + str(metrics.explained_variance_score(y_test, predicted_results)))\n",
    "print(\"R2 score: \" + str(metrics.r2_score(y_test, predicted_results)))"
   ]
  },
  {
   "cell_type": "code",
   "execution_count": 6,
   "metadata": {},
   "outputs": [
    {
     "data": {
      "text/plain": [
       "Index(['CARBON_DIOXIDE_EMISSIONS_Metric_Ton_CO2e_',\n",
       "       'X_DIFFERENCE_FROM_NATIONAL_MEDIAN_SOURCE_EUI',\n",
       "       'X_DIFFERENCE_FROM_NATIONAL_MEDIAN_SITE_EUI',\n",
       "       'GROSS_BUILDING_FLOOR_AREA_ft_', 'NUMBER_OF_BUILDINGS', 'OCCUPANCY',\n",
       "       'POSTAL_CODE', 'PROPERTY_TYPE',\n",
       "       'SITE_ENERGY_USE_INTENSITY_EUI_kBtu_ft_', 'Source_EUI_kBtu_ft_',\n",
       "       'TOTAL_WATER_USE_kgal_', 'YEAR_BUILT'],\n",
       "      dtype='object')"
      ]
     },
     "execution_count": 6,
     "metadata": {},
     "output_type": "execute_result"
    }
   ],
   "source": [
    "data.columns"
   ]
  },
  {
   "cell_type": "code",
   "execution_count": 79,
   "metadata": {},
   "outputs": [
    {
     "data": {
      "text/plain": [
       "0.6438148322632635"
      ]
     },
     "execution_count": 79,
     "metadata": {},
     "output_type": "execute_result"
    }
   ],
   "source": []
  },
  {
   "cell_type": "code",
   "execution_count": null,
   "metadata": {},
   "outputs": [],
   "source": []
  }
 ],
 "metadata": {
  "kernelspec": {
   "display_name": "Python 3",
   "language": "python",
   "name": "python3"
  },
  "language_info": {
   "codemirror_mode": {
    "name": "ipython",
    "version": 3
   },
   "file_extension": ".py",
   "mimetype": "text/x-python",
   "name": "python",
   "nbconvert_exporter": "python",
   "pygments_lexer": "ipython3",
   "version": "3.6.5"
  }
 },
 "nbformat": 4,
 "nbformat_minor": 2
}
